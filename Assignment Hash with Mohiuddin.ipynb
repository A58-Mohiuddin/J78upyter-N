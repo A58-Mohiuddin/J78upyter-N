{
 "cells": [
  {
   "cell_type": "code",
   "execution_count": 15,
   "metadata": {
    "scrolled": true
   },
   "outputs": [
    {
     "name": "stdout",
     "output_type": "stream",
     "text": [
      "Press 1:Linear Probing\n",
      "Press 2: Double Hashing\n",
      "Enter the Collision Technique You Want To Use: 2\n",
      "Enter The Range Of Array: 5\n",
      "Enter The Number Of Elements: 10\n"
     ]
    },
    {
     "ename": "IndexError",
     "evalue": "list is full",
     "output_type": "error",
     "traceback": [
      "\u001b[0;31m---------------------------------------------------------------------------\u001b[0m",
      "\u001b[0;31mIndexError\u001b[0m                                Traceback (most recent call last)",
      "\u001b[0;32m<ipython-input-15-0a1ad9c3fed6>\u001b[0m in \u001b[0;36m<module>\u001b[0;34m\u001b[0m\n\u001b[1;32m     77\u001b[0m \u001b[0;34m\u001b[0m\u001b[0m\n\u001b[1;32m     78\u001b[0m \u001b[0;32melif\u001b[0m \u001b[0mint\u001b[0m\u001b[0;34m(\u001b[0m\u001b[0mo\u001b[0m\u001b[0;34m)\u001b[0m\u001b[0;34m==\u001b[0m\u001b[0;36m2\u001b[0m\u001b[0;34m:\u001b[0m\u001b[0;34m\u001b[0m\u001b[0m\n\u001b[0;32m---> 79\u001b[0;31m     \u001b[0mDoub_h\u001b[0m\u001b[0;34m(\u001b[0m\u001b[0;34m)\u001b[0m\u001b[0;34m\u001b[0m\u001b[0m\n\u001b[0m\u001b[1;32m     80\u001b[0m \u001b[0;34m\u001b[0m\u001b[0m\n",
      "\u001b[0;32m<ipython-input-15-0a1ad9c3fed6>\u001b[0m in \u001b[0;36mDoub_h\u001b[0;34m()\u001b[0m\n\u001b[1;32m     61\u001b[0m     \u001b[0mn\u001b[0m \u001b[0;34m=\u001b[0m\u001b[0mint\u001b[0m\u001b[0;34m(\u001b[0m\u001b[0minput\u001b[0m\u001b[0;34m(\u001b[0m\u001b[0;34m'Enter The Number Of Elements: '\u001b[0m\u001b[0;34m)\u001b[0m\u001b[0;34m)\u001b[0m\u001b[0;34m\u001b[0m\u001b[0m\n\u001b[1;32m     62\u001b[0m     \u001b[0;32mif\u001b[0m \u001b[0mn\u001b[0m\u001b[0;34m>\u001b[0m\u001b[0mk\u001b[0m\u001b[0;34m:\u001b[0m\u001b[0;34m\u001b[0m\u001b[0m\n\u001b[0;32m---> 63\u001b[0;31m         \u001b[0;32mraise\u001b[0m \u001b[0mIndexError\u001b[0m\u001b[0;34m(\u001b[0m\u001b[0;34m'list is full'\u001b[0m\u001b[0;34m)\u001b[0m           \u001b[0;31m# exception if number of elements is greater than the size of table\u001b[0m\u001b[0;34m\u001b[0m\u001b[0m\n\u001b[0m\u001b[1;32m     64\u001b[0m \u001b[0;34m\u001b[0m\u001b[0m\n\u001b[1;32m     65\u001b[0m     \u001b[0;32mfor\u001b[0m \u001b[0mp\u001b[0m \u001b[0;32min\u001b[0m \u001b[0mrange\u001b[0m\u001b[0;34m(\u001b[0m\u001b[0;36m0\u001b[0m\u001b[0;34m,\u001b[0m\u001b[0mn\u001b[0m\u001b[0;34m)\u001b[0m\u001b[0;34m:\u001b[0m\u001b[0;34m\u001b[0m\u001b[0m\n",
      "\u001b[0;31mIndexError\u001b[0m: list is full"
     ]
    }
   ],
   "source": [
    "#ASSIGNMENT LINEAR PROBING AND DOUBLE HASHING\n",
    "#MOHIUDDIN KARIMKHAN A-58\n",
    "\n",
    "\n",
    "\n",
    "print('Press 1:Linear Probing')\n",
    "print('Press 2: Double Hashing')\n",
    "o= input('Enter the Collision Technique You Want To Use: ')\n",
    "\n",
    "    \n",
    "    \n",
    "k = int(input('Enter The Range Of Array: '))        #This input statement is common for both Collision Techniques\n",
    "list = [None]*k\n",
    "state = 0\n",
    "\n",
    "def main():\n",
    "   \n",
    "    for x in range(0,(int(input('Number Of Items: ')))):\n",
    "        print('Enter The Item',x)\n",
    "        linearProbing(input())\n",
    "\n",
    "    print(list)\n",
    "\n",
    "\n",
    "def linearProbing(key):\n",
    "    \n",
    "    global state\n",
    "    global list\n",
    "    c = hash(key) % len(list)\n",
    "    while state != 1:\n",
    "        if list[c] == None:\n",
    "            list[c] = key\n",
    "            state = 1\n",
    "        elif c == 0:\n",
    "            c = len(list) - 1\n",
    "        else:\n",
    "            c -= 1\n",
    "    state = 0\n",
    "    \n",
    "    \n",
    "    \n",
    "\n",
    "def Doub_h():\n",
    "    \n",
    "    def double_hashing(keys, hashtable_size, double_hash_value):\n",
    "        hashtable_list = [None] * hashtable_size\n",
    "        for i in range(len(keys)):\n",
    "            hashkey = hash(keys[i]) % hashtable_size\n",
    "            if hashtable_list[hashkey] is None:\n",
    "                hashtable_list[hashkey] = keys[i]\n",
    "            else:\n",
    "                new_hashkey = hashkey\n",
    "                while hashtable_list[new_hashkey] is not None:\n",
    "                    steps = double_hash_value - (hash(keys[i]) % double_hash_value)\n",
    "                    new_hashkey = (new_hashkey + steps) % hashtable_size  \n",
    "                hashtable_list[new_hashkey] = (keys[i])\n",
    "        return hashtable_list  \n",
    "\n",
    "\n",
    "    values = []\n",
    "    n =int(input('Enter The Number Of Elements: '))\n",
    "    if n>k:\n",
    "        raise IndexError('list is full')           # exception if number of elements is greater than the size of table\n",
    "    \n",
    "    for p in range(0,n):\n",
    "        print('Enter Item',p)\n",
    "        ele = input()\n",
    "\n",
    "        values.append(ele)\n",
    "\n",
    "    print( double_hashing(values, k, 5) )\n",
    "    \n",
    "    \n",
    "if int(o)==1:\n",
    "    if __name__ == '__main__':\n",
    "        main()\n",
    "    \n",
    "elif int(o)==2:\n",
    "    Doub_h()\n",
    "\n"
   ]
  }
 ],
 "metadata": {
  "kernelspec": {
   "display_name": "Python 3",
   "language": "python",
   "name": "python3"
  },
  "language_info": {
   "codemirror_mode": {
    "name": "ipython",
    "version": 3
   },
   "file_extension": ".py",
   "mimetype": "text/x-python",
   "name": "python",
   "nbconvert_exporter": "python",
   "pygments_lexer": "ipython3",
   "version": "3.6.5"
  }
 },
 "nbformat": 4,
 "nbformat_minor": 4
}
